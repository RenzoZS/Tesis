{
 "cells": [
  {
   "cell_type": "markdown",
   "metadata": {},
   "source": [
    "## Reseña numérica y computacional\n",
    "\n",
    "Material complementario al capítulo 2."
   ]
  },
  {
   "cell_type": "markdown",
   "metadata": {},
   "source": [
    "### Implementación con NumPy"
   ]
  },
  {
   "cell_type": "code",
   "execution_count": 20,
   "metadata": {},
   "outputs": [],
   "source": [
    "import numpy as np\n",
    "\n",
    "def laplacian2(X):\n",
    "    Xn = X.copy()\n",
    "    Xn[1:-1,1:-1] = X[1:-1,2:] + X[1:-1,0:-2] + X[2:,1:-1] + X[0:-2,1:-1] - 4*X[1:-1,1:-1]\n",
    "    \n",
    "    Xn[0,1:-1] = X[1,1:-1] + X[-1,1:-1] + X[0,2:] + X[0,0:-2] - 4*X[0,1:-1]\n",
    "    Xn[-1,1:-1] = X[0,1:-1] + X[-2,1:-1] + X[-1,2:] + X[-1,0:-2] - 4*X[-1,1:-1]\n",
    "    Xn[1:-1,0] = X[1:-1,1] + X[1:-1,-1] + X[2:,0] + X[0:-2,0] - 4*X[1:-1,0]\n",
    "    Xn[1:-1,-1] = X[1:-1,0] + X[1:-1,-2] + X[2:, -1] + X[0:-2, -1] - 4*X[1:-1,-1]\n",
    "    \n",
    "    Xn[0,0] = X[1,0] + X[-1,0] + X[0,1] + X[0,-1] - 4*X[0,0]\n",
    "    Xn[0,-1] = X[1,-1] + X[-1,-1] + X[0,0] + X[0,-2] - 4*X[0,-1]\n",
    "    Xn[-1,0] = X[0,0] + X[-2,0] + X[-1,1] + X[-1,-1] - 4*X[-1,0]\n",
    "    Xn[-1,-1] = X[0,-1] + X[-2,-1] + X[-1,0] + X[-1,-2] - 4*X[-1,-1]\n",
    "    return Xn\n",
    "\n",
    "def laplacian(X):\n",
    "    '''\n",
    "    Take the Laplacian of a 2D array with periodic boundury conditions.\n",
    "    '''\n",
    "    return np.roll(X,1,axis = 0) + np.roll(X,-1,axis = 0) + np.roll(X,1,axis = 1) + np.roll(X,-1,axis = 1) - 4*X\n",
    "\n",
    "def cpu_numpy_solver(u, v, fu, fv, Ds, dt = .01, d = 1, it = 1000):\n",
    "    '''\n",
    "    Solve a 2D reaction-diffusion equation for two dynamical variables with periodic boundary conditions using NumPy.\n",
    "\n",
    "    u: Intial conditions for the first dynamical variable. 2d NumPy array of shape (Ly,Lx).\n",
    "    v: Intial conditions for the second dynamical variable. 2d NumPy array of shape (Ly,Lx).\n",
    "    f1: Reaction term for the first dynamical variable. Function.\n",
    "    f2: Reaction term for the second dynamical variable. Function.\n",
    "    Ds: Diffusion coefficients for the first and second dynamical variables. List or array of length 2.\n",
    "    dt: Time step. Default value is 0.01.\n",
    "    d: Space step. Default value is 1.\n",
    "    it: Number of iterations. Default value is 1000.\n",
    "    '''\n",
    "    \n",
    "    #Error checking\n",
    "    if u.shape != v.shape:\n",
    "        raise ValueError(\"u and v must have the same shape.\")\n",
    "\n",
    "    if len(Ds) != 2:\n",
    "        raise ValueError(\"Ds must be a list or array of length 2.\")\n",
    "    \n",
    "    Du,Dv = Ds\n",
    "    for _ in range(it):\n",
    "        u = u + dt*(fu(u,v) + Du*laplacian2(u)/d**2)\n",
    "        v = v + dt*(fv(u,v) + Dv*laplacian2(v)/d**2)\n",
    "    return u,v\n"
   ]
  },
  {
   "cell_type": "code",
   "execution_count": 60,
   "metadata": {},
   "outputs": [],
   "source": [
    "import cupy as cp\n",
    "import numpy as np\n",
    "\n",
    "def cupy_laplacian2(X):\n",
    "    Xn = X.copy()\n",
    "    Xn[1:-1,1:-1] = X[1:-1,2:] + X[1:-1,0:-2] + X[2:,1:-1] + X[0:-2,1:-1] - 4*X[1:-1,1:-1]\n",
    "    \n",
    "    Xn[0,1:-1] = X[1,1:-1] + X[-1,1:-1] + X[0,2:] + X[0,0:-2] - 4*X[0,1:-1]\n",
    "    Xn[-1,1:-1] = X[0,1:-1] + X[-2,1:-1] + X[-1,2:] + X[-1,0:-2] - 4*X[-1,1:-1]\n",
    "    Xn[1:-1,0] = X[1:-1,1] + X[1:-1,-1] + X[2:,0] + X[0:-2,0] - 4*X[1:-1,0]\n",
    "    Xn[1:-1,-1] = X[1:-1,0] + X[1:-1,-2] + X[2:, -1] + X[0:-2, -1] - 4*X[1:-1,-1]\n",
    "    \n",
    "    Xn[0,0] = X[1,0] + X[-1,0] + X[0,1] + X[0,-1] - 4*X[0,0]\n",
    "    Xn[0,-1] = X[1,-1] + X[-1,-1] + X[0,0] + X[0,-2] - 4*X[0,-1]\n",
    "    Xn[-1,0] = X[0,0] + X[-2,0] + X[-1,1] + X[-1,-1] - 4*X[-1,0]\n",
    "    Xn[-1,-1] = X[0,-1] + X[-2,-1] + X[-1,0] + X[-1,-2] - 4*X[-1,-1]\n",
    "    return Xn\n",
    "\n",
    "laplace = cp.ElementwiseKernel('raw float64 X, uint32 Lx, uint32 Ly', 'float64 Y',\n",
    "'''\n",
    "int x = i % Lx;\n",
    "int y = (int) i / Lx;\n",
    "\n",
    "Y = X[(x+1)%Lx + Lx*y] + X[(x-1+Lx)%Lx + Lx*y] + X[x + Lx*((y+1)%Ly)] + X[x + Lx*((y-1+Ly)%Ly)] - 4*X[i]\n",
    "\n",
    "''' ,'lapalce')\n",
    "\n",
    "@cp.fuse()\n",
    "def cupy_solver(u, v, fu, fv, Ds, dt = .01, d = 1, it = 1000):\n",
    "\n",
    "    Du,Dv = Ds\n",
    "    for _ in range(it):\n",
    "        u = u + dt*(fu(u,v) + Du*laplace(u,1024,1024,size=1024*1024).reshape((1024,1024))/d**2)\n",
    "        v = v + dt*(fv(u,v) + Dv*laplace(v,1024,1024,size=1024*1024).reshape((1024,1024))/d**2)\n",
    "    return u,v\n",
    "\n",
    "def euler(x,y,f,dt,D,d):\n",
    "    return x + dt*(f(x,y) + D*cupy_laplacian2(x)/d**2)\n",
    "\n",
    "@cp.fuse()\n",
    "def fu(u,v):\n",
    "    return -beta*u*v\n",
    "@cp.fuse()\n",
    "def fv(u,v):\n",
    "    return beta*u*v - gamma*v"
   ]
  },
  {
   "cell_type": "code",
   "execution_count": 77,
   "metadata": {},
   "outputs": [],
   "source": [
    "def test(u,v,f):\n",
    "    \n",
    "    cp.fuse()\n",
    "    def f_fuse(u,v):\n",
    "        return f(u,v)\n",
    "     \n",
    "    return f_fuse"
   ]
  },
  {
   "cell_type": "code",
   "execution_count": 87,
   "metadata": {},
   "outputs": [
    {
     "data": {
      "text/plain": [
       "array([[-0., -0., -0., ..., -0., -0., -0.],\n",
       "       [-0., -0., -0., ..., -0., -0., -0.],\n",
       "       [-0., -0., -0., ..., -0., -0., -0.],\n",
       "       ...,\n",
       "       [-0., -0., -0., ..., -0., -0., -0.],\n",
       "       [-0., -0., -0., ..., -0., -0., -0.],\n",
       "       [-0., -0., -0., ..., -0., -0., -0.]])"
      ]
     },
     "execution_count": 87,
     "metadata": {},
     "output_type": "execute_result"
    }
   ],
   "source": [
    "fu(u,u)"
   ]
  },
  {
   "cell_type": "code",
   "execution_count": 88,
   "metadata": {},
   "outputs": [
    {
     "data": {
      "text/plain": [
       "array([[-0., -0., -0., ..., -0., -0., -0.],\n",
       "       [-0., -0., -0., ..., -0., -0., -0.],\n",
       "       [-0., -0., -0., ..., -0., -0., -0.],\n",
       "       ...,\n",
       "       [-0., -0., -0., ..., -0., -0., -0.],\n",
       "       [-0., -0., -0., ..., -0., -0., -0.],\n",
       "       [-0., -0., -0., ..., -0., -0., -0.]])"
      ]
     },
     "execution_count": 88,
     "metadata": {},
     "output_type": "execute_result"
    }
   ],
   "source": [
    "fu_fuse(u,u)"
   ]
  },
  {
   "cell_type": "code",
   "execution_count": 80,
   "metadata": {},
   "outputs": [],
   "source": [
    "fu_fuse = test(u,u,fu)"
   ]
  },
  {
   "cell_type": "code",
   "execution_count": 69,
   "metadata": {},
   "outputs": [
    {
     "data": {
      "text/plain": [
       "array([[-0., -0., -0., ..., -0., -0., -0.],\n",
       "       [-0., -0., -0., ..., -0., -0., -0.],\n",
       "       [-0., -0., -0., ..., -0., -0., -0.],\n",
       "       ...,\n",
       "       [-0., -0., -0., ..., -0., -0., -0.],\n",
       "       [-0., -0., -0., ..., -0., -0., -0.],\n",
       "       [-0., -0., -0., ..., -0., -0., -0.]])"
      ]
     },
     "execution_count": 69,
     "metadata": {},
     "output_type": "execute_result"
    }
   ],
   "source": [
    "u = cp.zeros((L,L))\n",
    "laplace(u,L,L,size=L*L).reshape((L,L))\n",
    "test(u,u,fu)"
   ]
  },
  {
   "cell_type": "code",
   "execution_count": 62,
   "metadata": {},
   "outputs": [
    {
     "ename": "TypeError",
     "evalue": "Unsupported type <class 'numpy.ndarray'>",
     "output_type": "error",
     "traceback": [
      "\u001b[1;31m---------------------------------------------------------------------------\u001b[0m",
      "\u001b[1;31mTypeError\u001b[0m                                 Traceback (most recent call last)",
      "\u001b[1;32mc:\\Users\\renzo\\Mi unidad (renzo.zagarra@ib.edu.ar)\\Tesis_M\\tesis\\cpuvsgpu\\cap2.ipynb Celda 6\u001b[0m in \u001b[0;36m<cell line: 10>\u001b[1;34m()\u001b[0m\n\u001b[0;32m      <a href='vscode-notebook-cell:/c%3A/Users/renzo/Mi%20unidad%20%28renzo.zagarra%40ib.edu.ar%29/Tesis_M/tesis/cpuvsgpu/cap2.ipynb#X35sZmlsZQ%3D%3D?line=6'>7</a>\u001b[0m v[:,\u001b[39m0\u001b[39m] \u001b[39m=\u001b[39m \u001b[39m1.\u001b[39m\n\u001b[0;32m      <a href='vscode-notebook-cell:/c%3A/Users/renzo/Mi%20unidad%20%28renzo.zagarra%40ib.edu.ar%29/Tesis_M/tesis/cpuvsgpu/cap2.ipynb#X35sZmlsZQ%3D%3D?line=7'>8</a>\u001b[0m Ds \u001b[39m=\u001b[39m [\u001b[39m0\u001b[39m,\u001b[39m1\u001b[39m]\n\u001b[1;32m---> <a href='vscode-notebook-cell:/c%3A/Users/renzo/Mi%20unidad%20%28renzo.zagarra%40ib.edu.ar%29/Tesis_M/tesis/cpuvsgpu/cap2.ipynb#X35sZmlsZQ%3D%3D?line=9'>10</a>\u001b[0m uf,vf \u001b[39m=\u001b[39m cupy_solver(u,v,fu,fv,Ds)\n",
      "File \u001b[1;32mcupy\\_core\\fusion.pyx:866\u001b[0m, in \u001b[0;36mcupy._core.fusion.Fusion.__call__\u001b[1;34m()\u001b[0m\n",
      "\u001b[1;32mc:\\Users\\renzo\\Mi unidad (renzo.zagarra@ib.edu.ar)\\Tesis_M\\tesis\\cpuvsgpu\\cap2.ipynb Celda 6\u001b[0m in \u001b[0;36mcupy_solver\u001b[1;34m(u, v, fu, fv, Ds, dt, d, it)\u001b[0m\n\u001b[0;32m     <a href='vscode-notebook-cell:/c%3A/Users/renzo/Mi%20unidad%20%28renzo.zagarra%40ib.edu.ar%29/Tesis_M/tesis/cpuvsgpu/cap2.ipynb#X35sZmlsZQ%3D%3D?line=30'>31</a>\u001b[0m Du,Dv \u001b[39m=\u001b[39m Ds\n\u001b[0;32m     <a href='vscode-notebook-cell:/c%3A/Users/renzo/Mi%20unidad%20%28renzo.zagarra%40ib.edu.ar%29/Tesis_M/tesis/cpuvsgpu/cap2.ipynb#X35sZmlsZQ%3D%3D?line=31'>32</a>\u001b[0m \u001b[39mfor\u001b[39;00m _ \u001b[39min\u001b[39;00m \u001b[39mrange\u001b[39m(it):\n\u001b[1;32m---> <a href='vscode-notebook-cell:/c%3A/Users/renzo/Mi%20unidad%20%28renzo.zagarra%40ib.edu.ar%29/Tesis_M/tesis/cpuvsgpu/cap2.ipynb#X35sZmlsZQ%3D%3D?line=32'>33</a>\u001b[0m     u \u001b[39m=\u001b[39m u \u001b[39m+\u001b[39m dt\u001b[39m*\u001b[39m(fu(u,v) \u001b[39m+\u001b[39m Du\u001b[39m*\u001b[39mlaplace(u,\u001b[39m1024\u001b[39;49m,\u001b[39m1024\u001b[39;49m,size\u001b[39m=\u001b[39;49m\u001b[39m1024\u001b[39;49m\u001b[39m*\u001b[39;49m\u001b[39m1024\u001b[39;49m)\u001b[39m.\u001b[39mreshape((\u001b[39m1024\u001b[39m,\u001b[39m1024\u001b[39m))\u001b[39m/\u001b[39md\u001b[39m*\u001b[39m\u001b[39m*\u001b[39m\u001b[39m2\u001b[39m)\n\u001b[0;32m     <a href='vscode-notebook-cell:/c%3A/Users/renzo/Mi%20unidad%20%28renzo.zagarra%40ib.edu.ar%29/Tesis_M/tesis/cpuvsgpu/cap2.ipynb#X35sZmlsZQ%3D%3D?line=33'>34</a>\u001b[0m     v \u001b[39m=\u001b[39m v \u001b[39m+\u001b[39m dt\u001b[39m*\u001b[39m(fv(u,v) \u001b[39m+\u001b[39m Dv\u001b[39m*\u001b[39mlaplace(v,\u001b[39m1024\u001b[39m,\u001b[39m1024\u001b[39m,size\u001b[39m=\u001b[39m\u001b[39m1024\u001b[39m\u001b[39m*\u001b[39m\u001b[39m1024\u001b[39m)\u001b[39m.\u001b[39mreshape((\u001b[39m1024\u001b[39m,\u001b[39m1024\u001b[39m))\u001b[39m/\u001b[39md\u001b[39m*\u001b[39m\u001b[39m*\u001b[39m\u001b[39m2\u001b[39m)\n\u001b[0;32m     <a href='vscode-notebook-cell:/c%3A/Users/renzo/Mi%20unidad%20%28renzo.zagarra%40ib.edu.ar%29/Tesis_M/tesis/cpuvsgpu/cap2.ipynb#X35sZmlsZQ%3D%3D?line=34'>35</a>\u001b[0m \u001b[39mreturn\u001b[39;00m u,v\n",
      "File \u001b[1;32mcupy\\_core\\_kernel.pyx:820\u001b[0m, in \u001b[0;36mcupy._core._kernel.ElementwiseKernel.__call__\u001b[1;34m()\u001b[0m\n",
      "File \u001b[1;32mcupy\\_core\\_kernel.pyx:130\u001b[0m, in \u001b[0;36mcupy._core._kernel._preprocess_args\u001b[1;34m()\u001b[0m\n",
      "\u001b[1;31mTypeError\u001b[0m: Unsupported type <class 'numpy.ndarray'>"
     ]
    }
   ],
   "source": [
    "L = 1024\n",
    "beta = 1.\n",
    "gamma = .2\n",
    "u = cp.ones((L,L))\n",
    "v = cp.zeros((L,L))\n",
    "u[:,0] = 0\n",
    "v[:,0] = 1.\n",
    "Ds = [0,1]\n",
    "\n",
    "uf,vf = cupy_solver(u,v,fu,fv,Ds)"
   ]
  },
  {
   "cell_type": "code",
   "execution_count": 3,
   "metadata": {},
   "outputs": [
    {
     "ename": "NameError",
     "evalue": "name 'np' is not defined",
     "output_type": "error",
     "traceback": [
      "\u001b[1;31m---------------------------------------------------------------------------\u001b[0m",
      "\u001b[1;31mNameError\u001b[0m                                 Traceback (most recent call last)",
      "\u001b[1;32mc:\\Users\\renzo\\Mi unidad (renzo.zagarra@ib.edu.ar)\\Tesis_M\\tesis\\cpuvsgpu\\cap2.ipynb Celda 5\u001b[0m in \u001b[0;36m<cell line: 10>\u001b[1;34m()\u001b[0m\n\u001b[0;32m      <a href='vscode-notebook-cell:/c%3A/Users/renzo/Mi%20unidad%20%28renzo.zagarra%40ib.edu.ar%29/Tesis_M/tesis/cpuvsgpu/cap2.ipynb#W3sZmlsZQ%3D%3D?line=7'>8</a>\u001b[0m beta \u001b[39m=\u001b[39m \u001b[39m1.\u001b[39m\n\u001b[0;32m      <a href='vscode-notebook-cell:/c%3A/Users/renzo/Mi%20unidad%20%28renzo.zagarra%40ib.edu.ar%29/Tesis_M/tesis/cpuvsgpu/cap2.ipynb#W3sZmlsZQ%3D%3D?line=8'>9</a>\u001b[0m gamma \u001b[39m=\u001b[39m \u001b[39m.2\u001b[39m\n\u001b[1;32m---> <a href='vscode-notebook-cell:/c%3A/Users/renzo/Mi%20unidad%20%28renzo.zagarra%40ib.edu.ar%29/Tesis_M/tesis/cpuvsgpu/cap2.ipynb#W3sZmlsZQ%3D%3D?line=9'>10</a>\u001b[0m u \u001b[39m=\u001b[39m np\u001b[39m.\u001b[39mones((L,L))\n\u001b[0;32m     <a href='vscode-notebook-cell:/c%3A/Users/renzo/Mi%20unidad%20%28renzo.zagarra%40ib.edu.ar%29/Tesis_M/tesis/cpuvsgpu/cap2.ipynb#W3sZmlsZQ%3D%3D?line=10'>11</a>\u001b[0m v \u001b[39m=\u001b[39m np\u001b[39m.\u001b[39mzeros((L,L))\n\u001b[0;32m     <a href='vscode-notebook-cell:/c%3A/Users/renzo/Mi%20unidad%20%28renzo.zagarra%40ib.edu.ar%29/Tesis_M/tesis/cpuvsgpu/cap2.ipynb#W3sZmlsZQ%3D%3D?line=11'>12</a>\u001b[0m u[:,\u001b[39m0\u001b[39m] \u001b[39m=\u001b[39m \u001b[39m0\u001b[39m\n",
      "\u001b[1;31mNameError\u001b[0m: name 'np' is not defined"
     ]
    }
   ],
   "source": [
    "def fu(u,v):\n",
    "    return -beta*u*v\n",
    "\n",
    "def fv(u,v):\n",
    "    return beta*u*v - gamma*v\n",
    "\n",
    "L = 1024\n",
    "beta = 1.\n",
    "gamma = .2\n",
    "u = np.ones((L,L))\n",
    "v = np.zeros((L,L))\n",
    "u[:,0] = 0\n",
    "v[:,0] = 1.\n",
    "Ds = [0,1]\n",
    "\n",
    "uf,vf = cpu_numpy_solver(u,v,fu,fv,Ds)"
   ]
  },
  {
   "cell_type": "code",
   "execution_count": 24,
   "metadata": {},
   "outputs": [
    {
     "name": "stdout",
     "output_type": "stream",
     "text": [
      "49.2 s ± 1.24 s per loop (mean ± std. dev. of 7 runs, 1 loop each)\n"
     ]
    }
   ],
   "source": [
    "%timeit cpu_numpy_solver(u,v,fu,fv,Ds)"
   ]
  },
  {
   "cell_type": "markdown",
   "metadata": {},
   "source": [
    "### Implementación serial con Numba"
   ]
  },
  {
   "cell_type": "code",
   "execution_count": 43,
   "metadata": {},
   "outputs": [],
   "source": [
    "from numba import njit\n",
    "import numpy as np\n",
    "\n",
    "@njit()\n",
    "def cpu_numba_solver(u, v, fu, fv, Ds, dt=.01, d = 1, it = 1000):\n",
    "    '''\n",
    "    Solve a 2D reaction-diffusion equation for two dynamical variables with periodic boundary conditions using Numba \n",
    "    with a serial implementation.\n",
    "\n",
    "    u: Intial conditions for the first dynamical variable. 2d NumPy array of shape (Ly,Lx).\n",
    "    v: Intial conditions for the second dynamical variable. 2d NumPy array of shape (Ly,Lx).\n",
    "    f1: Reaction term for the first dynamical variable. Function.\n",
    "    f2: Reaction term for the second dynamical variable. Function.\n",
    "    Ds: Diffusion coefficients for the first and second dynamical variables. List or array of length 2.\n",
    "    dt: Time step. Default value is 0.01.\n",
    "    d: Space step. Default value is 1.\n",
    "    it: Number of iterations. Default value is 1000.\n",
    "    '''    \n",
    "\n",
    "    #Error checking\n",
    "    if u.shape != v.shape:\n",
    "        raise ValueError(\"u and v must have the same shape.\")\n",
    "    if len(Ds) != 2:\n",
    "        raise ValueError(\"Ds must be a list or array of length 2.\")\n",
    "\n",
    "    Ly,Lx = u.shape\n",
    "    u = u.reshape(Ly*Lx)\n",
    "    v = v.reshape(Ly*Lx)\n",
    "    Fu = np.zeros_like(u)\n",
    "    Fv = np.zeros_like(v)\n",
    "    Du,Dv = Ds\n",
    "    for _ in range(it):\n",
    "        for i in range(Lx*Ly):\n",
    "            x = i % Lx\n",
    "            y = i // Lx\n",
    "            Lu = (u[(x+1)%Lx + Lx*y] + u[(x-1+Lx)%Lx+Lx*y] + u[x + Lx*((y+1)%Ly)] + u[x + Lx*((y-1+Ly)%Ly)] - 4*u[i])/d**2\n",
    "            Lv = (v[(x+1)%Lx + Lx*y] + v[(x-1+Lx)%Lx+Lx*y] + v[x + Lx*((y+1)%Ly)] + v[x + Lx*((y-1+Ly)%Ly)] - 4*v[i])/d**2\n",
    "            Fu[i] = fu(u[i],v[i]) + Du*Lu \n",
    "            Fv[i] = fv(u[i],v[i]) + Dv*Lv\n",
    "        u = u + dt*Fu\n",
    "        v = v + dt*Fv\n",
    "    return u.reshape(Ly,Lx),v.reshape(Ly,Lx)"
   ]
  },
  {
   "cell_type": "code",
   "execution_count": 44,
   "metadata": {},
   "outputs": [],
   "source": [
    "@njit()\n",
    "def fu(u,v):\n",
    "    return -beta*u*v\n",
    "@njit()\n",
    "def fv(u,v):\n",
    "    return beta*u*v - gamma*v\n",
    "\n",
    "L = 1024\n",
    "beta = 1\n",
    "gamma = .2\n",
    "u = np.ones((L,L))\n",
    "v = np.zeros((L,L))\n",
    "u[:,0] = 0\n",
    "v[:,0] = 1\n",
    "Ds = np.array([0,1])\n",
    "\n",
    "uf,vf = cpu_numba_solver(u,v,fu,fv,Ds)"
   ]
  },
  {
   "cell_type": "code",
   "execution_count": 45,
   "metadata": {},
   "outputs": [
    {
     "name": "stdout",
     "output_type": "stream",
     "text": [
      "18.1 s ± 564 ms per loop (mean ± std. dev. of 7 runs, 1 loop each)\n"
     ]
    }
   ],
   "source": [
    "%timeit cpu_numba_solver(u,v,fu,fv,Ds)"
   ]
  },
  {
   "cell_type": "code",
   "execution_count": 15,
   "metadata": {},
   "outputs": [
    {
     "data": {
      "image/png": "[encoded data removed]",
      "text/plain": [
       "<Figure size 1080x576 with 2 Axes>"
      ]
     },
     "metadata": {
      "needs_background": "light"
     },
     "output_type": "display_data"
    }
   ],
   "source": [
    "import matplotlib.pyplot as plt\n",
    "fig,ax = plt.subplots(1,2,figsize = (15,8))\n",
    "ax[0].imshow(v)\n",
    "ax[1].imshow(vf)\n",
    "plt.show()"
   ]
  },
  {
   "cell_type": "markdown",
   "metadata": {},
   "source": [
    "### Implementación paralela con Numba"
   ]
  },
  {
   "cell_type": "code",
   "execution_count": 53,
   "metadata": {},
   "outputs": [],
   "source": [
    "from numba import njit,prange\n",
    "import numpy as np\n",
    "\n",
    "@njit(parallel = True)\n",
    "def cpu_numba_parallel_solver(u, v, fu, fv, Ds, dt=.01, d = 1, it = 1000):\n",
    "    '''\n",
    "    Solve a 2D reaction-diffusion equation for two dynamical variables with periodic boundary conditions using Numba \n",
    "    with a parallel implementation.\n",
    "\n",
    "    u: Intial conditions for the first dynamical variable. 2d NumPy array of shape (Ly,Lx).\n",
    "    v: Intial conditions for the second dynamical variable. 2d NumPy array of shape (Ly,Lx).\n",
    "    f1: Reaction term for the first dynamical variable. Function.\n",
    "    f2: Reaction term for the second dynamical variable. Function.\n",
    "    p1: Parameters for the f1 function.\n",
    "    p2: Parameters for the f2 function.\n",
    "    Ds: Diffusion coefficients for the first and second dynamical variables. List or array of length 2.\n",
    "    dt: Time step. Default value is 0.01.\n",
    "    d: Space step. Default value is 1.\n",
    "    it: Number of iterations. Default value is 1000.\n",
    "    '''    \n",
    "\n",
    "    #Error checking\n",
    "    if u.shape != v.shape:\n",
    "        raise ValueError(\"u and v must have the same shape.\")\n",
    "    if len(Ds) != 2:\n",
    "        raise ValueError(\"Ds must be a list or array of length 2.\")\n",
    "\n",
    "    Ly,Lx = u.shape\n",
    "    u = u.reshape(Ly*Lx)\n",
    "    v = v.reshape(Ly*Lx)\n",
    "    Fu = np.zeros_like(u)\n",
    "    Fv = np.zeros_like(v)\n",
    "    Du,Dv = Ds\n",
    "    for _ in range(it):\n",
    "        for i in prange(Lx*Ly):\n",
    "            x = i % Lx\n",
    "            y = i // Lx\n",
    "            laplacian_u = (u[(x+1)%Lx + Lx*y] + u[(x-1+Lx)%Lx+Lx*y] + u[x + Lx*((y+1)%Ly)] + u[x + Lx*((y-1+Ly)%Ly)] - 4*u[i])/d**2\n",
    "            laplacian_v = (v[(x+1)%Lx + Lx*y] + v[(x-1+Lx)%Lx+Lx*y] + v[x + Lx*((y+1)%Ly)] + v[x + Lx*((y-1+Ly)%Ly)] - 4*v[i])/d**2\n",
    "            Fu[i] = fu(u[i],v[i]) + Du*laplacian_u \n",
    "            Fv[i] = fv(u[i],v[i]) + Dv*laplacian_v\n",
    "        u = u + dt*Fu\n",
    "        v = v + dt*Fv\n",
    "    return u.reshape(Ly,Lx),v.reshape(Ly,Lx)"
   ]
  },
  {
   "cell_type": "code",
   "execution_count": 54,
   "metadata": {},
   "outputs": [],
   "source": [
    "@njit()\n",
    "def fu(u,v):\n",
    "    return -beta*u*v\n",
    "\n",
    "@njit()\n",
    "def fv(u,v):\n",
    "    return beta*u*v - gamma*v\n",
    "\n",
    "L = 1024\n",
    "beta = 1\n",
    "gamma = .2\n",
    "u = np.ones((L,L))\n",
    "v = np.zeros((L,L))\n",
    "u[:,0] = 0\n",
    "v[:,0] = 1\n",
    "Ds = np.array([0,1])\n",
    "\n",
    "uf,vf = cpu_numba_parallel_solver(u,v,fu,fv,Ds)"
   ]
  },
  {
   "cell_type": "code",
   "execution_count": 53,
   "metadata": {},
   "outputs": [
    {
     "name": "stdout",
     "output_type": "stream",
     "text": [
      "6.31 s ± 439 ms per loop (mean ± std. dev. of 7 runs, 1 loop each)\n"
     ]
    }
   ],
   "source": [
    "%timeit cpu_numba_parallel_solver(u,v,fu,fv,Ds)"
   ]
  },
  {
   "cell_type": "markdown",
   "metadata": {},
   "source": [
    "### Implementación con CuPy"
   ]
  },
  {
   "cell_type": "code",
   "execution_count": 25,
   "metadata": {},
   "outputs": [],
   "source": [
    "import cupy as cp\n",
    "\n",
    "\n",
    "def cupy_laplacian(X):\n",
    "    '''\n",
    "    Take the Laplacian of a 2D array with periodic boundury conditions.\n",
    "    '''\n",
    "    return cp.roll(X,1,axis = 0) + cp.roll(X,-1,axis = 0) + cp.roll(X,1,axis = 1) + cp.roll(X,-1,axis = 1) - 4*X\n",
    "\n",
    "def gpu_simple_cupy_solver(u, v, fu, fv, Ds, dt = .01, d = 1, it = 1000):\n",
    "    '''\n",
    "    Solve a 2D reaction-diffusion equation for two dynamical variables with periodic boundary conditions using NumPy.\n",
    "\n",
    "    u: Intial conditions for the first dynamical variable. 2d NumPy array of shape (Ly,Lx).\n",
    "    v: Intial conditions for the second dynamical variable. 2d NumPy array of shape (Ly,Lx).\n",
    "    fu: Reaction term for the first dynamical variable. Function.\n",
    "    fv: Reaction term for the second dynamical variable. Function.\n",
    "    Ds: Diffusion coefficients for the first and second dynamical variables. List or array of length 2.\n",
    "    dt: Time step. Default value is 0.01.\n",
    "    d: Space step. Default value is 1.\n",
    "    it: Number of iterations. Default value is 1000.\n",
    "    '''\n",
    "    \n",
    "    #Error checking\n",
    "    if u.shape != v.shape:\n",
    "        raise ValueError(\"u and v must have the same shape.\")\n",
    "    if len(Ds) != 2:\n",
    "        raise ValueError(\"Ds must be a list or array of length 2.\")\n",
    "    \n",
    "    Du,Dv = Ds\n",
    "    for _ in range(it):\n",
    "        u = u + dt*(fu(u,v) + Du*cupy_laplacian(u)/d**2)\n",
    "        v = v + dt*(fv(u,v) + Dv*cupy_laplacian(v)/d**2)\n",
    "    return u,v"
   ]
  },
  {
   "cell_type": "code",
   "execution_count": 26,
   "metadata": {},
   "outputs": [],
   "source": [
    "def fu(u,v):\n",
    "    return -beta*u*v\n",
    "\n",
    "def fv(u,v):\n",
    "    return beta*u*v - gamma*v\n",
    "\n",
    "L = 1024\n",
    "beta = 1\n",
    "gamma = .2\n",
    "u = cp.ones((L,L))\n",
    "v = cp.zeros((L,L))\n",
    "u[:,0] = 0\n",
    "v[:,0] = 1\n",
    "Ds = [0,1]\n",
    "\n",
    "uf,vf = gpu_simple_cupy_solver(u,v,fu,fv,Ds)"
   ]
  },
  {
   "cell_type": "code",
   "execution_count": 10,
   "metadata": {},
   "outputs": [
    {
     "name": "stdout",
     "output_type": "stream",
     "text": [
      "3.41 s ± 6.73 ms per loop (mean ± std. dev. of 7 runs, 1 loop each)\n"
     ]
    }
   ],
   "source": [
    "%timeit gpu_simple_cupy_solver(u,v,fu,fv,Ds)"
   ]
  },
  {
   "cell_type": "code",
   "execution_count": 1,
   "metadata": {},
   "outputs": [
    {
     "name": "stdout",
     "output_type": "stream",
     "text": [
      "217 µs ± 834 ns per loop (mean ± std. dev. of 7 runs, 10,000 loops each)\n"
     ]
    }
   ],
   "source": [
    "import cupy as cp\n",
    "def mul_add(A,B,C):\n",
    "    return A*B + C\n",
    "\n",
    "L = 1024\n",
    "A = cp.ones((L,L))\n",
    "B = cp.ones((L,L))\n",
    "C = cp.ones((L,L))\n",
    "mul_add(A,B,C)\n",
    "%timeit mul_add(A,B,C)"
   ]
  },
  {
   "cell_type": "code",
   "execution_count": 311,
   "metadata": {},
   "outputs": [
    {
     "name": "stdout",
     "output_type": "stream",
     "text": [
      "136 µs ± 273 ns per loop (mean ± std. dev. of 7 runs, 10,000 loops each)\n"
     ]
    }
   ],
   "source": [
    "import cupy as cp\n",
    "mul_add_kernel = cp.ElementwiseKernel(\n",
    "    'float64 A, float64 B, float64 C', 'float64 out',\n",
    "    'out = A*B + C', 'mul_add')\n",
    "\n",
    "L = 1024\n",
    "A = cp.ones((L,L))\n",
    "B = cp.ones((L,L))\n",
    "C = cp.ones((L,L))\n",
    "mul_add_kernel(A,B,C)\n",
    "%timeit mul_add_kernel(A,B,C)"
   ]
  },
  {
   "cell_type": "code",
   "execution_count": 45,
   "metadata": {},
   "outputs": [],
   "source": [
    "import cupy as cp\n",
    "forces = cp.ElementwiseKernel(\n",
    "    'raw float64 u, raw float64 v, float64 beta, float64 gamma, float64 Du, float64 Dv, uint32 Lx, uint32 Ly',\n",
    "    'float64 Fu, float64 Fv',\n",
    "    '''\n",
    "    int x = i % Lx;\n",
    "    int y = (int) i / Lx;\n",
    "    Fu = - beta * u[i] * v[i] + Du * (u[(x+1)%Lx + Lx*y] + u[(x-1+Lx)%Lx + Lx*y] + u[x + Lx*((y+1)%Ly)] + u[x + Lx*((y-1+Ly)%Ly)] - 4 * u[i]);\n",
    "    Fv = beta * u[i] * v[i] - gamma * v[i] + Dv * (v[(x+1)%Lx + Lx*y] + v[(x-1+Lx)%Lx+Lx*y] + v[x + Lx*((y+1)%Ly)] + v[x + Lx*((y-1+Ly)%Ly)] - 4 * v[i]);\n",
    "    ''',\n",
    "    'forces', options = ('--use_fast_math',))\n",
    "\n",
    "euler = cp.ElementwiseKernel(\n",
    "    'float64 Fu, float64 Fv, float64 dt','float64 u, float64 v',\n",
    "    '''\n",
    "    u = u + dt*Fu;\n",
    "    v = v + dt*Fv;\n",
    "    ''',\n",
    "    'euler')\n",
    "\n",
    "def gpu_cupy_solver(u, v, Ds, beta = 1.,gamma = .2, dt = .01, d = 1, it = 1000):\n",
    "    '''\n",
    "    Solve a 2D reaction-diffusion equation for two dynamical variables with periodic boundary conditions using CuPy.\n",
    "\n",
    "    u: Intial conditions for the first dynamical variable. 2d CuPy array of shape (Ly,Lx).\n",
    "    v: Intial conditions for the second dynamical variable. 2d CuPy array of shape (Ly,Lx).\n",
    "    Ds: Diffusion coefficients for the first and second dynamical variables. List or array of length 2.\n",
    "    dt: Time step. Default value is 0.01.\n",
    "    d: Space step. Default value is 1.\n",
    "    it: Number of iterations. Default value is 1000.\n",
    "    '''\n",
    "    \n",
    "    #Error checking\n",
    "    if u.shape != v.shape:\n",
    "        raise ValueError(\"u and v must have the same shape.\")\n",
    "    if len(Ds) != 2:\n",
    "        raise ValueError(\"Ds must be a list or array of length 2.\")\n",
    "        \n",
    "    Ly,Lx = u.shape\n",
    "    Du,Dv = Ds\n",
    "    Fu = cp.zeros_like(u)\n",
    "    Fv = cp.zeros_like(v)\n",
    "\n",
    "    for _ in range(it):\n",
    "        forces(u,v,beta,gamma,Du,Dv,Lx,Ly,Fu,Fv)\n",
    "        euler(Fu,Fv,dt,u,v)\n",
    "    return u,v"
   ]
  },
  {
   "cell_type": "code",
   "execution_count": 47,
   "metadata": {},
   "outputs": [
    {
     "data": {
      "text/plain": [
       "(array([[0.        , 0.03628753, 0.03965281, ..., 0.04524237, 0.03965281,\n",
       "         0.03628753],\n",
       "        [0.        , 0.03628753, 0.03965281, ..., 0.04524237, 0.03965281,\n",
       "         0.03628753],\n",
       "        [0.        , 0.03628753, 0.03965281, ..., 0.04524237, 0.03965281,\n",
       "         0.03628753],\n",
       "        ...,\n",
       "        [0.        , 0.03628753, 0.03965281, ..., 0.04524237, 0.03965281,\n",
       "         0.03628753],\n",
       "        [0.        , 0.03628753, 0.03965281, ..., 0.04524237, 0.03965281,\n",
       "         0.03628753],\n",
       "        [0.        , 0.03628753, 0.03965281, ..., 0.04524237, 0.03965281,\n",
       "         0.03628753]]),\n",
       " array([[0.2454542 , 0.25480389, 0.2729186 , ..., 0.29800704, 0.2729186 ,\n",
       "         0.25480389],\n",
       "        [0.2454542 , 0.25480389, 0.2729186 , ..., 0.29800704, 0.2729186 ,\n",
       "         0.25480389],\n",
       "        [0.2454542 , 0.25480389, 0.2729186 , ..., 0.29800704, 0.2729186 ,\n",
       "         0.25480389],\n",
       "        ...,\n",
       "        [0.2454542 , 0.25480389, 0.2729186 , ..., 0.29800704, 0.2729186 ,\n",
       "         0.25480389],\n",
       "        [0.2454542 , 0.25480389, 0.2729186 , ..., 0.29800704, 0.2729186 ,\n",
       "         0.25480389],\n",
       "        [0.2454542 , 0.25480389, 0.2729186 , ..., 0.29800704, 0.2729186 ,\n",
       "         0.25480389]]))"
      ]
     },
     "execution_count": 47,
     "metadata": {},
     "output_type": "execute_result"
    }
   ],
   "source": [
    "L = 1024\n",
    "u = cp.ones((L,L))\n",
    "v = cp.zeros((L,L))\n",
    "u[:,0] = 0\n",
    "v[:,0] = 1\n",
    "Ds = [0.,1.]\n",
    "gpu_cupy_solver(u,v,Ds,it=1000)"
   ]
  },
  {
   "cell_type": "code",
   "execution_count": 48,
   "metadata": {},
   "outputs": [
    {
     "name": "stdout",
     "output_type": "stream",
     "text": [
      "599 ms ± 10.7 ms per loop (mean ± std. dev. of 7 runs, 1 loop each)\n"
     ]
    }
   ],
   "source": [
    "%timeit gpu_cupy_solver(u,v,Ds)"
   ]
  },
  {
   "cell_type": "code",
   "execution_count": 30,
   "metadata": {},
   "outputs": [],
   "source": [
    "import cupy as cp\n",
    "\n",
    "raw_forces = cp.RawKernel(r'''\n",
    "extern \"C\" __global__\n",
    "void my_forces(const double* u,const double* v, double* Fu, double* Fv, double beta, double gamma, double Du, double Dv, unsigned int Lx, unsigned int Ly) {\n",
    "    int x = blockDim.x * blockIdx.x + threadIdx.x;\n",
    "    int y = blockDim.y * blockIdx.y + threadIdx.y;\n",
    "    int idx = x + Lx * y;\n",
    "    if (x < Lx && y < Ly){\n",
    "        Fu[idx] = - beta * u[idx] * v[idx] + Du * (u[(x+1)%Lx + Lx*y] + u[(x-1+Lx)%Lx+Lx*y] + u[x + Lx*((y+1)%Ly)] + u[x + Lx*((y-1+Ly)%Ly)] - 4*u[idx]);\n",
    "        Fv[idx] = beta * u[idx] * v[idx] - gamma * v[idx] + Dv * (v[(x+1)%Lx + Lx*y] + v[(x-1+Lx)%Lx+Lx*y] + v[x + Lx*((y+1)%Ly)] + v[x + Lx*((y-1+Ly)%Ly)] - 4*v[idx]);\n",
    "    }\n",
    "}\n",
    "''', 'my_forces')\n",
    "\n",
    "raw_euler = cp.RawKernel(r'''\n",
    "extern \"C\" __global__\n",
    "void my_euler(const double* Fu, const double* Fv, double* u, double* v, double dt, unsigned int Lx, unsigned int Ly) {\n",
    "    int x = blockDim.x * blockIdx.x + threadIdx.x;\n",
    "    int y = blockDim.y * blockIdx.y + threadIdx.y;\n",
    "    int idx = x + Lx * y;\n",
    "    if (x < Lx && y < Ly){\n",
    "        u[idx] = u[idx] + dt*Fu[idx];\n",
    "        v[idx] = v[idx] + dt*Fv[idx];\n",
    "    }\n",
    "}\n",
    "''', 'my_euler')\n",
    "\n",
    "def gpu_raw_cupy_solver(u, v, Ds, beta = 1.,gamma = .2, dt = .01, d = 1, it = 1000):\n",
    "    '''\n",
    "    Solve a 2D reaction-diffusion equation for two dynamical variables with periodic boundary conditions using CuPy.\n",
    "\n",
    "    u: Intial conditions for the first dynamical variable. 2d CuPy array of shape (Ly,Lx).\n",
    "    v: Intial conditions for the second dynamical variable. 2d CuPy array of shape (Ly,Lx).\n",
    "    Ds: Diffusion coefficients for the first and second dynamical variables. List or array of length 2.\n",
    "    dt: Time step. Default value is 0.01.\n",
    "    d: Space step. Default value is 1.\n",
    "    it: Number of iterations. Default value is 1000.\n",
    "    '''\n",
    "    \n",
    "    #Error checking\n",
    "    if u.shape != v.shape:\n",
    "        raise ValueError(\"u and v must have the same shape.\")\n",
    "    if len(Ds) != 2:\n",
    "        raise ValueError(\"Ds must be a list or array of length 2.\")\n",
    "        \n",
    "    Ly,Lx = u.shape\n",
    "    Du,Dv = Ds\n",
    "    Fu = cp.zeros_like(u)\n",
    "    Fv = cp.zeros_like(v)\n",
    "    threadsperblock = (16,8)\n",
    "    blockspergrid = (Ly//threadsperblock[0],Lx//threadsperblock[1])\n",
    "    for _ in range(it):\n",
    "        raw_euler(blockspergrid,threadsperblock,(Fu,Fv,u,v,dt,Lx,Ly))\n",
    "        raw_forces(blockspergrid,threadsperblock,(u,v,Fu,Fv,beta,gamma,Du,Dv,Lx,Ly))\n",
    "    return u,v"
   ]
  },
  {
   "cell_type": "code",
   "execution_count": 31,
   "metadata": {},
   "outputs": [
    {
     "data": {
      "text/plain": [
       "(array([[0.        , 0.03638035, 0.03976148, ..., 0.04537778, 0.03976148,\n",
       "         0.03638035],\n",
       "        [0.        , 0.03638035, 0.03976148, ..., 0.04537778, 0.03976148,\n",
       "         0.03638035],\n",
       "        [0.        , 0.03638035, 0.03976148, ..., 0.04537778, 0.03976148,\n",
       "         0.03638035],\n",
       "        ...,\n",
       "        [0.        , 0.03638035, 0.03976148, ..., 0.04537778, 0.03976148,\n",
       "         0.03638035],\n",
       "        [0.        , 0.03638035, 0.03976148, ..., 0.04537778, 0.03976148,\n",
       "         0.03638035],\n",
       "        [0.        , 0.03638035, 0.03976148, ..., 0.04537778, 0.03976148,\n",
       "         0.03638035]]),\n",
       " array([[0.24575821, 0.25513356, 0.27328673, ..., 0.29841824, 0.27328673,\n",
       "         0.25513356],\n",
       "        [0.24575821, 0.25513356, 0.27328673, ..., 0.29841824, 0.27328673,\n",
       "         0.25513356],\n",
       "        [0.24575821, 0.25513356, 0.27328673, ..., 0.29841824, 0.27328673,\n",
       "         0.25513356],\n",
       "        ...,\n",
       "        [0.24575821, 0.25513356, 0.27328673, ..., 0.29841824, 0.27328673,\n",
       "         0.25513356],\n",
       "        [0.24575821, 0.25513356, 0.27328673, ..., 0.29841824, 0.27328673,\n",
       "         0.25513356],\n",
       "        [0.24575821, 0.25513356, 0.27328673, ..., 0.29841824, 0.27328673,\n",
       "         0.25513356]]))"
      ]
     },
     "execution_count": 31,
     "metadata": {},
     "output_type": "execute_result"
    }
   ],
   "source": [
    "L = 1024\n",
    "u = cp.ones((L,L))\n",
    "v = cp.zeros((L,L))\n",
    "u[:,0] = 0\n",
    "v[:,0] = 1\n",
    "Ds = [0.,1.]\n",
    "gpu_raw_cupy_solver(u,v,Ds,it=1000)"
   ]
  },
  {
   "cell_type": "code",
   "execution_count": 32,
   "metadata": {},
   "outputs": [
    {
     "name": "stdout",
     "output_type": "stream",
     "text": [
      "599 ms ± 4.09 ms per loop (mean ± std. dev. of 7 runs, 1 loop each)\n"
     ]
    }
   ],
   "source": [
    "%timeit gpu_raw_cupy_solver(u,v,Ds)"
   ]
  },
  {
   "cell_type": "code",
   "execution_count": null,
   "metadata": {},
   "outputs": [],
   "source": []
  }
 ],
 "metadata": {
  "kernelspec": {
   "display_name": "Python 3.9.7 ('base')",
   "language": "python",
   "name": "python3"
  },
  "language_info": {
   "codemirror_mode": {
    "name": "ipython",
    "version": 3
   },
   "file_extension": ".py",
   "mimetype": "text/x-python",
   "name": "python",
   "nbconvert_exporter": "python",
   "pygments_lexer": "ipython3",
   "version": "3.9.7"
  },
  "orig_nbformat": 4,
  "vscode": {
   "interpreter": {
    "hash": "a853a36dd34f4e127a1c940f133f5f5f69f52494a182d60a25a7162197551ce1"
   }
  }
 },
 "nbformat": 4,
 "nbformat_minor": 2
}
