{
 "cells": [
  {
   "cell_type": "code",
   "execution_count": 64,
   "metadata": {},
   "outputs": [],
   "source": [
    "import cupy as cp\n",
    "\n",
    "def rd_solve(y0,f,D,dt=.01,d=1,it = 1000):\n",
    "    '''\n",
    "    \n",
    "    Solves a reaction-diffusion system for n_var variables and n_dim dimensions.\n",
    "\n",
    "    Parameters\n",
    "\n",
    "    ----------\n",
    "\n",
    "    y0 : array\n",
    "\n",
    "        Initial conditions.\n",
    "\n",
    "    f : array\n",
    "\n",
    "        Array of functions of the form f(y,t) where y is a vector of the variables and t is the time.\n",
    "    \n",
    "    dt : float\n",
    "    \n",
    "        Time step.\n",
    "\n",
    "    D : array\n",
    "\n",
    "        Array of diffusion coefficients.\n",
    "    \n",
    "    d : float or array\n",
    "\n",
    "        Spatial step.\n",
    "    \n",
    "    it : int\n",
    "\n",
    "        Number of iterations.\n",
    "\n",
    "    Returns\n",
    "\n",
    "    -------\n",
    "\n",
    "    y : array\n",
    "\n",
    "        Array of solutions for each variable after all iterations.\n",
    "\n",
    "    '''\n",
    "    \n",
    "    y = cp.array(y0)\n",
    "\n",
    "    def laplace(y):\n",
    "        '''\n",
    "        Calculates the laplacian of each variable in y using cp.gradient().\n",
    "        '''\n",
    "        \n",
    "        return cp.sum(cp.array(cp.gradient(y, d, axis=(1,2),edge_order=2)),axis=0)\n",
    "\n",
    "    for i in range(it):\n",
    "        y = y + dt*(f(y,i*dt) + laplace(y))\n",
    "    \n",
    "    return y\n"
   ]
  },
  {
   "cell_type": "code",
   "execution_count": 65,
   "metadata": {},
   "outputs": [],
   "source": [
    "def f(y,t):\n",
    "    '''\n",
    "    \n",
    "    Function for the SIR model.\n",
    "\n",
    "    Parameters\n",
    "\n",
    "    ----------\n",
    "\n",
    "    y : array\n",
    "\n",
    "        Array of variables.\n",
    "\n",
    "    beta : float\n",
    "\n",
    "        Infection rate.\n",
    "\n",
    "    gamma : float\n",
    "\n",
    "        Recovery rate.\n",
    "\n",
    "    Returns\n",
    "\n",
    "    -------\n",
    "\n",
    "    f : array\n",
    "\n",
    "        Array of functions.\n",
    "\n",
    "    '''\n",
    "    \n",
    "    Lx,Ly = y[0].shape\n",
    "    f = cp.zeros((2,Lx,Ly))\n",
    "\n",
    "    f[0] = -beta*y[0]*y[1]\n",
    "    f[1] = beta*y[0]*y[1] - gamma*y[1]\n",
    "\n",
    "    return f\n",
    "\n",
    "beta = 1\n",
    "gamma = .2\n",
    "\n",
    "D = cp.array([0,1])\n",
    "Lx = 512\n",
    "Ly = 512\n",
    "\n",
    "y0 = cp.zeros((2,Lx,Ly))\n",
    "y0[0] = 1\n",
    "y0[1,:,0] = 1\n",
    "\n",
    "y = rd_solve(y0,f,D,dt=.01,d=1,it = 1000)\n",
    "\n"
   ]
  },
  {
   "cell_type": "code",
   "execution_count": 72,
   "metadata": {},
   "outputs": [
    {
     "ename": "ValueError",
     "evalue": "Shape of array too small to calculate a numerical gradient, at least (edge_order + 1) elements are required.",
     "output_type": "error",
     "traceback": [
      "\u001b[1;31m---------------------------------------------------------------------------\u001b[0m",
      "\u001b[1;31mValueError\u001b[0m                                Traceback (most recent call last)",
      "\u001b[1;32mc:\\Users\\renzo\\Mi unidad (renzo.zagarra@ib.edu.ar)\\Tesis_M\\tesis\\cpuvsgpu\\general_rd.ipynb Celda 3\u001b[0m in \u001b[0;36m<cell line: 3>\u001b[1;34m()\u001b[0m\n\u001b[0;32m      <a href='vscode-notebook-cell:/c%3A/Users/renzo/Mi%20unidad%20%28renzo.zagarra%40ib.edu.ar%29/Tesis_M/tesis/cpuvsgpu/general_rd.ipynb#X10sZmlsZQ%3D%3D?line=0'>1</a>\u001b[0m \u001b[39m#laplacian of y0 using cp.gradient()\u001b[39;00m\n\u001b[1;32m----> <a href='vscode-notebook-cell:/c%3A/Users/renzo/Mi%20unidad%20%28renzo.zagarra%40ib.edu.ar%29/Tesis_M/tesis/cpuvsgpu/general_rd.ipynb#X10sZmlsZQ%3D%3D?line=2'>3</a>\u001b[0m laplace \u001b[39m=\u001b[39m cp\u001b[39m.\u001b[39msum(cp\u001b[39m.\u001b[39marray(cp\u001b[39m.\u001b[39;49mgradient(y0, \u001b[39m1\u001b[39;49m,edge_order\u001b[39m=\u001b[39;49m\u001b[39m2\u001b[39;49m)),axis\u001b[39m=\u001b[39m\u001b[39m0\u001b[39m)\n\u001b[0;32m      <a href='vscode-notebook-cell:/c%3A/Users/renzo/Mi%20unidad%20%28renzo.zagarra%40ib.edu.ar%29/Tesis_M/tesis/cpuvsgpu/general_rd.ipynb#X10sZmlsZQ%3D%3D?line=4'>5</a>\u001b[0m laplace\u001b[39m.\u001b[39mshape\n",
      "File \u001b[1;32mc:\\Users\\renzo\\anaconda3\\lib\\site-packages\\cupy\\_math\\sumprod.py:403\u001b[0m, in \u001b[0;36mgradient\u001b[1;34m(f, axis, edge_order, *varargs)\u001b[0m\n\u001b[0;32m    401\u001b[0m \u001b[39mfor\u001b[39;00m axis, ax_dx \u001b[39min\u001b[39;00m \u001b[39mzip\u001b[39m(axes, dx):\n\u001b[0;32m    402\u001b[0m     \u001b[39mif\u001b[39;00m f\u001b[39m.\u001b[39mshape[axis] \u001b[39m<\u001b[39m edge_order \u001b[39m+\u001b[39m \u001b[39m1\u001b[39m:\n\u001b[1;32m--> 403\u001b[0m         \u001b[39mraise\u001b[39;00m \u001b[39mValueError\u001b[39;00m(\n\u001b[0;32m    404\u001b[0m             \u001b[39m\"\u001b[39m\u001b[39mShape of array too small to calculate a numerical gradient, \u001b[39m\u001b[39m\"\u001b[39m\n\u001b[0;32m    405\u001b[0m             \u001b[39m\"\u001b[39m\u001b[39mat least (edge_order + 1) elements are required.\u001b[39m\u001b[39m\"\u001b[39m\n\u001b[0;32m    406\u001b[0m         )\n\u001b[0;32m    407\u001b[0m     \u001b[39m# result allocation\u001b[39;00m\n\u001b[0;32m    408\u001b[0m     out \u001b[39m=\u001b[39m cupy\u001b[39m.\u001b[39mempty_like(f, dtype\u001b[39m=\u001b[39motype)\n",
      "\u001b[1;31mValueError\u001b[0m: Shape of array too small to calculate a numerical gradient, at least (edge_order + 1) elements are required."
     ]
    }
   ],
   "source": [
    "#laplacian of y0 using cp.gradient()\n",
    "\n",
    "laplace = cp.sum(cp.array(cp.gradient(y0, 1,edge_order=2)),axis=0)\n",
    "\n",
    "laplace.shape"
   ]
  },
  {
   "cell_type": "code",
   "execution_count": 1,
   "metadata": {},
   "outputs": [
    {
     "data": {
      "text/plain": [
       "array([[0.  , 0.01, 0.02, 0.03, 0.04, 0.05, 0.06, 0.07, 0.08, 0.09, 0.1 ,\n",
       "        0.11, 0.12, 0.13, 0.14, 0.15, 0.16, 0.17, 0.18, 0.19, 0.2 , 0.21,\n",
       "        0.22, 0.23, 0.24, 0.25, 0.26, 0.27, 0.28, 0.29, 0.3 , 0.31, 0.32,\n",
       "        0.33, 0.34, 0.35, 0.36, 0.37, 0.38, 0.39, 0.4 , 0.41, 0.42, 0.43,\n",
       "        0.44, 0.45, 0.46, 0.47, 0.48, 0.49, 0.5 , 0.51, 0.52, 0.53, 0.54,\n",
       "        0.55, 0.56, 0.57, 0.58, 0.59, 0.6 , 0.61, 0.62, 0.63, 0.64, 0.65,\n",
       "        0.66, 0.67, 0.68, 0.69, 0.7 , 0.71, 0.72, 0.73, 0.74, 0.75, 0.76,\n",
       "        0.77, 0.78, 0.79, 0.8 , 0.81, 0.82, 0.83, 0.84, 0.85, 0.86, 0.87,\n",
       "        0.88, 0.89, 0.9 , 0.91, 0.92, 0.93, 0.94, 0.95, 0.96, 0.97, 0.98,\n",
       "        0.99]])"
      ]
     },
     "execution_count": 1,
     "metadata": {},
     "output_type": "execute_result"
    }
   ],
   "source": [
    "import numpy as np\n",
    "x = np.arange(0,1,.01)\n",
    "x.reshape((1,-1))"
   ]
  },
  {
   "cell_type": "code",
   "execution_count": 66,
   "metadata": {},
   "outputs": [
    {
     "data": {
      "text/plain": [
       "array([[nan, nan, nan, ..., nan, nan, nan],\n",
       "       [nan, nan, nan, ..., nan, nan, nan],\n",
       "       [nan, nan, nan, ..., nan, nan, nan],\n",
       "       ...,\n",
       "       [nan, nan, nan, ..., nan, nan, nan],\n",
       "       [nan, nan, nan, ..., nan, nan, nan],\n",
       "       [nan, nan, nan, ..., nan, nan, nan]])"
      ]
     },
     "execution_count": 66,
     "metadata": {},
     "output_type": "execute_result"
    }
   ],
   "source": [
    "y[0,:,:]"
   ]
  },
  {
   "cell_type": "code",
   "execution_count": 44,
   "metadata": {},
   "outputs": [
    {
     "data": {
      "image/png": "[encoded data removed]",
      "text/plain": [
       "<Figure size 1000x500 with 2 Axes>"
      ]
     },
     "metadata": {},
     "output_type": "display_data"
    }
   ],
   "source": [
    "#PLOT\n",
    "\n",
    "import matplotlib.pyplot as plt\n",
    "\n",
    "fig, ax = plt.subplots(1,2,figsize = (10,5))\n",
    "\n",
    "ax[0].imshow(y[0,:,:].get(),interpolation=None)\n",
    "ax[1].imshow(y[1,:,:].get(),interpolation=None)\n",
    "\n",
    "plt.show()"
   ]
  },
  {
   "cell_type": "code",
   "execution_count": null,
   "metadata": {},
   "outputs": [],
   "source": []
  }
 ],
 "metadata": {
  "kernelspec": {
   "display_name": "Python 3.9.13 ('base')",
   "language": "python",
   "name": "python3"
  },
  "language_info": {
   "codemirror_mode": {
    "name": "ipython",
    "version": 3
   },
   "file_extension": ".py",
   "mimetype": "text/x-python",
   "name": "python",
   "nbconvert_exporter": "python",
   "pygments_lexer": "ipython3",
   "version": "3.9.13"
  },
  "orig_nbformat": 4,
  "vscode": {
   "interpreter": {
    "hash": "a853a36dd34f4e127a1c940f133f5f5f69f52494a182d60a25a7162197551ce1"
   }
  }
 },
 "nbformat": 4,
 "nbformat_minor": 2
}
